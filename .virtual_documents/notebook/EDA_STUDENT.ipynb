














import numpy as np
import pandas as pd
import seaborn as sns
import matplotlib.pyplot as plt 
%matplotlib inline 
import warnings
warnings.filterwarnings('ignore')





df=pd.read_csv('data/stud.csv')





df.head()


df.shape


df.info()











df.isna().sum()








df.duplicated().sum()








df.nunique()





df.describe()








 col=df.columns


 for x in col:
     print("Categories in",x,"variable :", end=" ")
     print(df[x].unique())
     print()






num_feat=[feat for feat in df.columns if df[feat].dtype != 'O']
cat_feat=[feat for feat in df.columns if df[feat].dtype == 'O']

print(len(num_feat),num_feat)
print(len(cat_feat),cat_feat)






df['total_score']=df['math_score']+df['reading_score']+df['writing_score']
df['average']=df['total_score']/3
df.head()








fig , axs=plt.subplots(1,2,figsize=(15,7))
plt.subplot(121)
sns.histplot(data=df,x='average',bins=30,kde=True,color='g')
plt.subplot(122)
sns.histplot(data=df,x='average',bins=30,kde=True,hue='gender')
plt.show()





plt.subplots(1,3,figsize=(25,6))
plt.subplot(141)
sns.histplot(data=df,x='average',kde=True,hue='lunch')
plt.subplot(142)
sns.histplot(data=df[df.gender=='female'],x='average',kde=True,hue='lunch')
plt.subplot(143)
sns.histplot(data=df[df.gender=='male'],x='average',kde=True,hue='lunch')
plt.show()



